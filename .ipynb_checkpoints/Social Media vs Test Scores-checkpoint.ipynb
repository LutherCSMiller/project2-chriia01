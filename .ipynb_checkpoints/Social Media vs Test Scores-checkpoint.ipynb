{
 "cells": [
  {
   "cell_type": "code",
   "execution_count": 199,
   "metadata": {
    "collapsed": true
   },
   "outputs": [],
   "source": [
    "%matplotlib inline\n",
    "from bs4 import BeautifulSoup\n",
    "import requests\n",
    "import pandas as pd\n",
    "from ggplot import *"
   ]
  },
  {
   "cell_type": "markdown",
   "metadata": {},
   "source": [
    "# Social Media Popularity vs Test Scores\n",
    "This is a project that I came up with while (ironically) browsing Facebook. I decided to focus my project on the rise of social media and how it effects students education. Due to the information I was able to obtain, along with that group having a much larger demographic, I decided to focus on how social media affects high schoolers. I decided to use the SAT as the standard to compare each year to, as the test is taken by a large amounts of students every year, and it is fairly consistent each year. Both of these factors make the SAT an excellent milestone to compare student progress."
   ]
  },
  {
   "cell_type": "markdown",
   "metadata": {},
   "source": [
    "### Data scraping to get percentage of people on social media per year"
   ]
  },
  {
   "cell_type": "code",
   "execution_count": 203,
   "metadata": {
    "collapsed": true
   },
   "outputs": [],
   "source": [
    "r = requests.get(\"http://www.pewinternet.org/2015/10/08/social-networking-usage-2005-2015/\")\n",
    "soup = BeautifulSoup(r.text, \"lxml\")"
   ]
  },
  {
   "cell_type": "code",
   "execution_count": 204,
   "metadata": {
    "collapsed": false
   },
   "outputs": [],
   "source": [
    "#Data scraped from Pew Research Center\n",
    "#http://www.pewinternet.org/2015/10/08/social-networking-usage-2005-2015/\n",
    "\n",
    "allrows = soup.find_all(\"tr\")\n",
    "\n",
    "rawdata = {\"Year\":[], \"Internet_Users\":[], \"All_People\":[]}\n",
    "\n",
    "for rowIndex in range(1,11):\n",
    "    currentRow = allrows[rowIndex].find_all('td')\n",
    "    \n",
    "    year = currentRow[0].contents[0]\n",
    "    internetUsers = currentRow[1].contents[0]\n",
    "    everyPerson = currentRow[2].contents[0]\n",
    "\n",
    "    rawdata[\"Year\"].append(year)\n",
    "    rawdata[\"Internet_Users\"].append(internetUsers)\n",
    "    rawdata[\"All_People\"].append(everyPerson)"
   ]
  },
  {
   "cell_type": "code",
   "execution_count": 205,
   "metadata": {
    "collapsed": false
   },
   "outputs": [
    {
     "data": {
      "text/html": [
       "<div>\n",
       "<table border=\"1\" class=\"dataframe\">\n",
       "  <thead>\n",
       "    <tr style=\"text-align: right;\">\n",
       "      <th></th>\n",
       "      <th>All_People</th>\n",
       "      <th>Internet_Users</th>\n",
       "      <th>Year</th>\n",
       "    </tr>\n",
       "  </thead>\n",
       "  <tbody>\n",
       "    <tr>\n",
       "      <th>0</th>\n",
       "      <td>7</td>\n",
       "      <td>10</td>\n",
       "      <td>2005</td>\n",
       "    </tr>\n",
       "    <tr>\n",
       "      <th>1</th>\n",
       "      <td>11</td>\n",
       "      <td>16</td>\n",
       "      <td>2006</td>\n",
       "    </tr>\n",
       "    <tr>\n",
       "      <th>2</th>\n",
       "      <td>25</td>\n",
       "      <td>34</td>\n",
       "      <td>2008</td>\n",
       "    </tr>\n",
       "    <tr>\n",
       "      <th>3</th>\n",
       "      <td>38</td>\n",
       "      <td>50</td>\n",
       "      <td>2009</td>\n",
       "    </tr>\n",
       "    <tr>\n",
       "      <th>4</th>\n",
       "      <td>46</td>\n",
       "      <td>60</td>\n",
       "      <td>2010</td>\n",
       "    </tr>\n",
       "    <tr>\n",
       "      <th>5</th>\n",
       "      <td>50</td>\n",
       "      <td>65</td>\n",
       "      <td>2011</td>\n",
       "    </tr>\n",
       "    <tr>\n",
       "      <th>6</th>\n",
       "      <td>55</td>\n",
       "      <td>67</td>\n",
       "      <td>2012</td>\n",
       "    </tr>\n",
       "    <tr>\n",
       "      <th>7</th>\n",
       "      <td>62</td>\n",
       "      <td>73</td>\n",
       "      <td>2013</td>\n",
       "    </tr>\n",
       "    <tr>\n",
       "      <th>8</th>\n",
       "      <td>62</td>\n",
       "      <td>74</td>\n",
       "      <td>2014</td>\n",
       "    </tr>\n",
       "    <tr>\n",
       "      <th>9</th>\n",
       "      <td>65</td>\n",
       "      <td>76</td>\n",
       "      <td>2015</td>\n",
       "    </tr>\n",
       "  </tbody>\n",
       "</table>\n",
       "</div>"
      ],
      "text/plain": [
       "  All_People Internet_Users  Year\n",
       "0          7             10  2005\n",
       "1         11             16  2006\n",
       "2         25             34  2008\n",
       "3         38             50  2009\n",
       "4         46             60  2010\n",
       "5         50             65  2011\n",
       "6         55             67  2012\n",
       "7         62             73  2013\n",
       "8         62             74  2014\n",
       "9         65             76  2015"
      ]
     },
     "execution_count": 205,
     "metadata": {},
     "output_type": "execute_result"
    }
   ],
   "source": [
    "socialMediaPop = pd.DataFrame(rawdata)\n",
    "socialMediaPop"
   ]
  },
  {
   "cell_type": "markdown",
   "metadata": {
    "collapsed": false
   },
   "source": [
    "### Data scraping to get average SAT scores over time"
   ]
  },
  {
   "cell_type": "code",
   "execution_count": 206,
   "metadata": {
    "collapsed": true
   },
   "outputs": [],
   "source": [
    "r = requests.get(\"https://nces.ed.gov/fastfacts/display.asp?id=171\")\n",
    "soup = BeautifulSoup(r.text, \"lxml\")"
   ]
  },
  {
   "cell_type": "code",
   "execution_count": 207,
   "metadata": {
    "collapsed": false
   },
   "outputs": [],
   "source": [
    "#Data scraped from Institute of Education Sciences\n",
    "#https://nces.ed.gov/fastfacts/display.asp?id=171\n",
    "\n",
    "allrows = soup.find_all(\"tr\")\n",
    "\n",
    "satData = {\"Year\":[], \"SAT_Reading\":[], \"SAT_Math\":[], \"SAT_Writing\":[]}\n",
    "\n",
    "years = allrows[1].find_all(\"td\")\n",
    "readingScores = allrows[3].find_all(\"td\")\n",
    "mathScores = allrows[13].find_all(\"td\")\n",
    "writingScores = allrows[23].find_all(\"td\")\n",
    "\n",
    "for rowIndex in range(1,19):\n",
    "    currentYear = years[rowIndex].contents[0].contents[0]\n",
    "    currentYear = str(currentYear)\n",
    "    reading = readingScores[rowIndex].contents[0]\n",
    "    math = mathScores[rowIndex].contents[0]\n",
    "    writing = writingScores[rowIndex].contents[0]\n",
    "    \n",
    "    if str(currentYear) == \"1999–2000\":\n",
    "        year = currentYear[-4:]\n",
    "    else:\n",
    "        year = currentYear[0:2] + currentYear[5:]\n",
    "    \n",
    "    if str(writing) == \"†\":\n",
    "        writing = \"NaN\"\n",
    "        \n",
    "    satData[\"Year\"].append(year)\n",
    "    satData[\"SAT_Reading\"].append(reading)\n",
    "    satData[\"SAT_Math\"].append(math)\n",
    "    satData[\"SAT_Writing\"].append(writing)\n"
   ]
  },
  {
   "cell_type": "code",
   "execution_count": 208,
   "metadata": {
    "collapsed": false
   },
   "outputs": [
    {
     "data": {
      "text/html": [
       "<div>\n",
       "<table border=\"1\" class=\"dataframe\">\n",
       "  <thead>\n",
       "    <tr style=\"text-align: right;\">\n",
       "      <th></th>\n",
       "      <th>SAT_Math</th>\n",
       "      <th>SAT_Reading</th>\n",
       "      <th>SAT_Writing</th>\n",
       "      <th>Year</th>\n",
       "    </tr>\n",
       "  </thead>\n",
       "  <tbody>\n",
       "    <tr>\n",
       "      <th>0</th>\n",
       "      <td>501</td>\n",
       "      <td>507</td>\n",
       "      <td>NaN</td>\n",
       "      <td>1987</td>\n",
       "    </tr>\n",
       "    <tr>\n",
       "      <th>1</th>\n",
       "      <td>500</td>\n",
       "      <td>499</td>\n",
       "      <td>NaN</td>\n",
       "      <td>1991</td>\n",
       "    </tr>\n",
       "    <tr>\n",
       "      <th>2</th>\n",
       "      <td>511</td>\n",
       "      <td>505</td>\n",
       "      <td>NaN</td>\n",
       "      <td>1997</td>\n",
       "    </tr>\n",
       "    <tr>\n",
       "      <th>3</th>\n",
       "      <td>514</td>\n",
       "      <td>505</td>\n",
       "      <td>NaN</td>\n",
       "      <td>2000</td>\n",
       "    </tr>\n",
       "    <tr>\n",
       "      <th>4</th>\n",
       "      <td>514</td>\n",
       "      <td>506</td>\n",
       "      <td>NaN</td>\n",
       "      <td>2001</td>\n",
       "    </tr>\n",
       "    <tr>\n",
       "      <th>5</th>\n",
       "      <td>516</td>\n",
       "      <td>504</td>\n",
       "      <td>NaN</td>\n",
       "      <td>2002</td>\n",
       "    </tr>\n",
       "    <tr>\n",
       "      <th>6</th>\n",
       "      <td>519</td>\n",
       "      <td>507</td>\n",
       "      <td>NaN</td>\n",
       "      <td>2003</td>\n",
       "    </tr>\n",
       "    <tr>\n",
       "      <th>7</th>\n",
       "      <td>518</td>\n",
       "      <td>508</td>\n",
       "      <td>NaN</td>\n",
       "      <td>2004</td>\n",
       "    </tr>\n",
       "    <tr>\n",
       "      <th>8</th>\n",
       "      <td>520</td>\n",
       "      <td>508</td>\n",
       "      <td>NaN</td>\n",
       "      <td>2005</td>\n",
       "    </tr>\n",
       "    <tr>\n",
       "      <th>9</th>\n",
       "      <td>518</td>\n",
       "      <td>503</td>\n",
       "      <td>497</td>\n",
       "      <td>2006</td>\n",
       "    </tr>\n",
       "    <tr>\n",
       "      <th>10</th>\n",
       "      <td>515</td>\n",
       "      <td>502</td>\n",
       "      <td>494</td>\n",
       "      <td>2007</td>\n",
       "    </tr>\n",
       "    <tr>\n",
       "      <th>11</th>\n",
       "      <td>515</td>\n",
       "      <td>502</td>\n",
       "      <td>494</td>\n",
       "      <td>2008</td>\n",
       "    </tr>\n",
       "    <tr>\n",
       "      <th>12</th>\n",
       "      <td>515</td>\n",
       "      <td>501</td>\n",
       "      <td>493</td>\n",
       "      <td>2009</td>\n",
       "    </tr>\n",
       "    <tr>\n",
       "      <th>13</th>\n",
       "      <td>516</td>\n",
       "      <td>501</td>\n",
       "      <td>492</td>\n",
       "      <td>2010</td>\n",
       "    </tr>\n",
       "    <tr>\n",
       "      <th>14</th>\n",
       "      <td>514</td>\n",
       "      <td>497</td>\n",
       "      <td>489</td>\n",
       "      <td>2011</td>\n",
       "    </tr>\n",
       "    <tr>\n",
       "      <th>15</th>\n",
       "      <td>514</td>\n",
       "      <td>496</td>\n",
       "      <td>488</td>\n",
       "      <td>2012</td>\n",
       "    </tr>\n",
       "    <tr>\n",
       "      <th>16</th>\n",
       "      <td>514</td>\n",
       "      <td>496</td>\n",
       "      <td>488</td>\n",
       "      <td>2013</td>\n",
       "    </tr>\n",
       "    <tr>\n",
       "      <th>17</th>\n",
       "      <td>513</td>\n",
       "      <td>497</td>\n",
       "      <td>487</td>\n",
       "      <td>2014</td>\n",
       "    </tr>\n",
       "  </tbody>\n",
       "</table>\n",
       "</div>"
      ],
      "text/plain": [
       "   SAT_Math SAT_Reading SAT_Writing  Year\n",
       "0       501         507         NaN  1987\n",
       "1       500         499         NaN  1991\n",
       "2       511         505         NaN  1997\n",
       "3       514         505         NaN  2000\n",
       "4       514         506         NaN  2001\n",
       "5       516         504         NaN  2002\n",
       "6       519         507         NaN  2003\n",
       "7       518         508         NaN  2004\n",
       "8       520         508         NaN  2005\n",
       "9       518         503         497  2006\n",
       "10      515         502         494  2007\n",
       "11      515         502         494  2008\n",
       "12      515         501         493  2009\n",
       "13      516         501         492  2010\n",
       "14      514         497         489  2011\n",
       "15      514         496         488  2012\n",
       "16      514         496         488  2013\n",
       "17      513         497         487  2014"
      ]
     },
     "execution_count": 208,
     "metadata": {},
     "output_type": "execute_result"
    }
   ],
   "source": [
    "satScores = pd.DataFrame(satData)\n",
    "satScores"
   ]
  },
  {
   "cell_type": "markdown",
   "metadata": {},
   "source": [
    "### Manipulate data into a form that can be graphed"
   ]
  },
  {
   "cell_type": "code",
   "execution_count": 210,
   "metadata": {
    "collapsed": false
   },
   "outputs": [
    {
     "data": {
      "text/html": [
       "<div>\n",
       "<table border=\"1\" class=\"dataframe\">\n",
       "  <thead>\n",
       "    <tr style=\"text-align: right;\">\n",
       "      <th></th>\n",
       "      <th>All_People</th>\n",
       "      <th>Internet_Users</th>\n",
       "      <th>Year</th>\n",
       "      <th>SAT_Math</th>\n",
       "      <th>SAT_Reading</th>\n",
       "      <th>SAT_Writing</th>\n",
       "    </tr>\n",
       "  </thead>\n",
       "  <tbody>\n",
       "    <tr>\n",
       "      <th>0</th>\n",
       "      <td>7</td>\n",
       "      <td>10</td>\n",
       "      <td>2005</td>\n",
       "      <td>520</td>\n",
       "      <td>508</td>\n",
       "      <td>NaN</td>\n",
       "    </tr>\n",
       "    <tr>\n",
       "      <th>1</th>\n",
       "      <td>11</td>\n",
       "      <td>16</td>\n",
       "      <td>2006</td>\n",
       "      <td>518</td>\n",
       "      <td>503</td>\n",
       "      <td>497</td>\n",
       "    </tr>\n",
       "    <tr>\n",
       "      <th>2</th>\n",
       "      <td>25</td>\n",
       "      <td>34</td>\n",
       "      <td>2008</td>\n",
       "      <td>515</td>\n",
       "      <td>502</td>\n",
       "      <td>494</td>\n",
       "    </tr>\n",
       "    <tr>\n",
       "      <th>3</th>\n",
       "      <td>38</td>\n",
       "      <td>50</td>\n",
       "      <td>2009</td>\n",
       "      <td>515</td>\n",
       "      <td>501</td>\n",
       "      <td>493</td>\n",
       "    </tr>\n",
       "    <tr>\n",
       "      <th>4</th>\n",
       "      <td>46</td>\n",
       "      <td>60</td>\n",
       "      <td>2010</td>\n",
       "      <td>516</td>\n",
       "      <td>501</td>\n",
       "      <td>492</td>\n",
       "    </tr>\n",
       "    <tr>\n",
       "      <th>5</th>\n",
       "      <td>50</td>\n",
       "      <td>65</td>\n",
       "      <td>2011</td>\n",
       "      <td>514</td>\n",
       "      <td>497</td>\n",
       "      <td>489</td>\n",
       "    </tr>\n",
       "    <tr>\n",
       "      <th>6</th>\n",
       "      <td>55</td>\n",
       "      <td>67</td>\n",
       "      <td>2012</td>\n",
       "      <td>514</td>\n",
       "      <td>496</td>\n",
       "      <td>488</td>\n",
       "    </tr>\n",
       "    <tr>\n",
       "      <th>7</th>\n",
       "      <td>62</td>\n",
       "      <td>73</td>\n",
       "      <td>2013</td>\n",
       "      <td>514</td>\n",
       "      <td>496</td>\n",
       "      <td>488</td>\n",
       "    </tr>\n",
       "    <tr>\n",
       "      <th>8</th>\n",
       "      <td>62</td>\n",
       "      <td>74</td>\n",
       "      <td>2014</td>\n",
       "      <td>513</td>\n",
       "      <td>497</td>\n",
       "      <td>487</td>\n",
       "    </tr>\n",
       "  </tbody>\n",
       "</table>\n",
       "</div>"
      ],
      "text/plain": [
       "  All_People Internet_Users  Year SAT_Math SAT_Reading SAT_Writing\n",
       "0          7             10  2005      520         508         NaN\n",
       "1         11             16  2006      518         503         497\n",
       "2         25             34  2008      515         502         494\n",
       "3         38             50  2009      515         501         493\n",
       "4         46             60  2010      516         501         492\n",
       "5         50             65  2011      514         497         489\n",
       "6         55             67  2012      514         496         488\n",
       "7         62             73  2013      514         496         488\n",
       "8         62             74  2014      513         497         487"
      ]
     },
     "execution_count": 210,
     "metadata": {},
     "output_type": "execute_result"
    }
   ],
   "source": [
    "#Merge to put everything in one place\n",
    "mergedData = pd.merge(socialMediaPop, satScores, left_on='Year', right_on='Year')\n",
    "mergedData"
   ]
  },
  {
   "cell_type": "code",
   "execution_count": 211,
   "metadata": {
    "collapsed": false
   },
   "outputs": [],
   "source": [
    "#Looped through merged data to put into a form that can be more easily put into a line graph\n",
    "pivoted = { \"Users\":[], \"Test Portion\":[], \"Score\":[]}\n",
    "\n",
    "\n",
    "for index, row in mergedData.iterrows():\n",
    "    for i in range(3):\n",
    "        pivoted[\"Users\"].append(int(row[0]))\n",
    "        \n",
    "    pivoted[\"Test Portion\"].append(\"Math\")\n",
    "    pivoted[\"Test Portion\"].append(\"Reading\")\n",
    "    pivoted[\"Test Portion\"].append(\"Writing\")\n",
    "    \n",
    "    pivoted[\"Score\"].append(int(row[3]))\n",
    "    pivoted[\"Score\"].append(int(row[4]))\n",
    "    \n",
    "    try:\n",
    "        pivoted[\"Score\"].append(int(row[5]))\n",
    "    except:\n",
    "        pivoted[\"Score\"].append('NaN')"
   ]
  },
  {
   "cell_type": "code",
   "execution_count": 212,
   "metadata": {
    "collapsed": false
   },
   "outputs": [
    {
     "data": {
      "text/html": [
       "<div>\n",
       "<table border=\"1\" class=\"dataframe\">\n",
       "  <thead>\n",
       "    <tr style=\"text-align: right;\">\n",
       "      <th></th>\n",
       "      <th>Score</th>\n",
       "      <th>Test Portion</th>\n",
       "      <th>Users</th>\n",
       "    </tr>\n",
       "  </thead>\n",
       "  <tbody>\n",
       "    <tr>\n",
       "      <th>0</th>\n",
       "      <td>520</td>\n",
       "      <td>Math</td>\n",
       "      <td>7</td>\n",
       "    </tr>\n",
       "    <tr>\n",
       "      <th>1</th>\n",
       "      <td>508</td>\n",
       "      <td>Reading</td>\n",
       "      <td>7</td>\n",
       "    </tr>\n",
       "    <tr>\n",
       "      <th>2</th>\n",
       "      <td>NaN</td>\n",
       "      <td>Writing</td>\n",
       "      <td>7</td>\n",
       "    </tr>\n",
       "    <tr>\n",
       "      <th>3</th>\n",
       "      <td>518</td>\n",
       "      <td>Math</td>\n",
       "      <td>11</td>\n",
       "    </tr>\n",
       "    <tr>\n",
       "      <th>4</th>\n",
       "      <td>503</td>\n",
       "      <td>Reading</td>\n",
       "      <td>11</td>\n",
       "    </tr>\n",
       "  </tbody>\n",
       "</table>\n",
       "</div>"
      ],
      "text/plain": [
       "  Score Test Portion  Users\n",
       "0   520         Math      7\n",
       "1   508      Reading      7\n",
       "2   NaN      Writing      7\n",
       "3   518         Math     11\n",
       "4   503      Reading     11"
      ]
     },
     "execution_count": 212,
     "metadata": {},
     "output_type": "execute_result"
    }
   ],
   "source": [
    "pivotedGraph = pd.DataFrame(pivoted)\n",
    "pivotedGraph.head()"
   ]
  },
  {
   "cell_type": "markdown",
   "metadata": {},
   "source": [
    "### Final Graph: SAT Scores vs Popularity of Social Media\n",
    "The chart listed below is our final outcome of the work that was put together. The x axis represents the popularity of social media, with the numbers being the percentage of people who use some sort of social media, between the years of 2005 and 2014. On the y-axis is the SAT scores achieved, with the different lines representing the three portions of the SAT: Math, Reading, and Writing. The results below were not too surprising. It shows that the popular of social media may effect how well students are doing in class. It appears that as the popularity in social media increases, the test results of the SAT start to decrease.  However, it is not that huge of a change, with math going down about 7 points, reading going down about 9 points, and writing going down about 10 points, showing that if social media has an effect on test scores, it may be minimal."
   ]
  },
  {
   "cell_type": "code",
   "execution_count": 215,
   "metadata": {
    "collapsed": false
   },
   "outputs": [
    {
     "data": {
      "image/png": "[encoded data removed]",
      "text/plain": [
       "<matplotlib.figure.Figure at 0x7f832ac9f470>"
      ]
     },
     "metadata": {},
     "output_type": "display_data"
    },
    {
     "data": {
      "text/plain": [
       "<ggplot: (8762583453490)>"
      ]
     },
     "execution_count": 215,
     "metadata": {},
     "output_type": "execute_result"
    }
   ],
   "source": [
    "testSM = ggplot(aes(x='Users', y='Score', color='Test Portion'),data=pivotedGraph)\n",
    "testSM + geom_line() + ggtitle(\"SAT Scores vs Popularity of Social Media\") + labs(x=\"Percent of people with social media\",\n",
    "        y=\"SAT Scores\")"
   ]
  },
  {
   "cell_type": "code",
   "execution_count": null,
   "metadata": {
    "collapsed": true
   },
   "outputs": [],
   "source": []
  }
 ],
 "metadata": {
  "kernelspec": {
   "display_name": "Python 3",
   "language": "python",
   "name": "python3"
  },
  "language_info": {
   "codemirror_mode": {
    "name": "ipython",
    "version": 3
   },
   "file_extension": ".py",
   "mimetype": "text/x-python",
   "name": "python",
   "nbconvert_exporter": "python",
   "pygments_lexer": "ipython3",
   "version": "3.5.1"
  }
 },
 "nbformat": 4,
 "nbformat_minor": 1
}
